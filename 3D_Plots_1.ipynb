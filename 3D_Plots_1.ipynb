{
 "cells": [
  {
   "cell_type": "markdown",
   "metadata": {},
   "source": [
    "In this app, we let the estimated GDP-CO2 relationship vary over time by including time as an additional input into the neural network. "
   ]
  },
  {
   "cell_type": "code",
   "execution_count": 76,
   "metadata": {},
   "outputs": [],
   "source": [
    "%matplotlib inline\n",
    "\n",
    "import pandas as pd\n",
    "import numpy as np\n",
    "import tensorflow as tf\n",
    "\n",
    "from matplotlib import pyplot as plt\n",
    "from mpl_toolkits.mplot3d import Axes3D\n",
    "from matplotlib import cm\n",
    "import seaborn as sns; sns.set()\n",
    "\n",
    "from ipywidgets import interact, fixed\n",
    "import ipywidgets as widgets"
   ]
  },
  {
   "cell_type": "code",
   "execution_count": 107,
   "metadata": {},
   "outputs": [],
   "source": [
    "# Creating plotting function\n",
    "def SurfPlot(region, loss, architecture):\n",
    "    \"\"\"\n",
    "    Makes 3D surface plot for a given region in a given year.\n",
    "\n",
    "    ARGUMENTS\n",
    "        * region:       Must be from the list: 'World', 'OECD', 'Asia', 'REF', 'MAF', 'LAM'.\n",
    "        * loss:         Must be from the list: 'MSE', 'MAE'\n",
    "        * architecture: Must be from the list: (4), (8), (16), (8,4), (16,8,4) \n",
    "    \"\"\"\n",
    "       \n",
    "    # Loading data\n",
    "    time        = np.load('Models/{}/Misc/time.npy'.format(region), allow_pickle=True)\n",
    "    T           = np.load('Models/{}/Misc/T.npy'.format(region), allow_pickle=True)\n",
    "    Min         = np.load('Models/{}/Misc/min.npy'.format(region), allow_pickle=True)\n",
    "    Max         = np.load('Models/{}/Misc/max.npy'.format(region), allow_pickle=True)\n",
    "    individuals = np.load('Models/{}/Misc/individuals.npy'.format(region), allow_pickle=True)\n",
    "    alphas      = np.load('Models/{}/{}/{}/alphas.npy'.format(region, loss, architecture), allow_pickle=True)\n",
    "    y_train_agg = np.load('Models/{}/Misc/y_train_agg.npy'.format(region), allow_pickle=True)\n",
    "    \n",
    "    lGDP = pd.read_pickle('Models/{}/Misc/lGDP'.format(region))[individuals]\n",
    "    lCO2 = pd.read_pickle('Models/{}/Misc/lCO2'.format(region))[individuals]\n",
    "    \n",
    "    in_sample_agg = pd.read_pickle('Models/{}/{}/{}/in_sample_agg'.format(region, loss, architecture))\n",
    "    model_pred    = tf.keras.models.load_model('Models/{}/{}/{}/model_pred'.format(region, loss, architecture))\n",
    "\n",
    "    # Surface plot\n",
    "    ax1      = time - 1959\n",
    "    ax2      = np.linspace(Min, Max, 1000)\n",
    "\n",
    "    ax1, ax2 = np.meshgrid(ax1, ax2)\n",
    "\n",
    "    ax1_vec  = np.reshape(ax1, (-1,1), order='F')\n",
    "    ax2_vec  = np.reshape(ax2, (-1,1), order='F')\n",
    "    \n",
    "    x_input  = np.hstack((ax1_vec, ax2_vec))\n",
    "\n",
    "    pred     = model_pred(x_input)\n",
    "    pred     = np.reshape(np.array(pred), (1000, T), order='F')\n",
    "    \n",
    "    # Scatter plot\n",
    "    ax11 = np.vstack([time] * lGDP.shape[1])\n",
    "    ax22 = np.array(lGDP.loc[time])\n",
    "    ax33 = np.array(lCO2.loc[time] - np.hstack((np.zeros((1, 1)), alphas)))\n",
    "\n",
    "    # Figure\n",
    "    plt.close(None)\n",
    "    \n",
    "    fig = plt.figure(figsize=plt.figaspect(0.25))\n",
    "\n",
    "    ax = fig.add_subplot(1, 3, 1, projection='3d')\n",
    "    surf = ax.plot_surface(ax1 + 1959, ax2, pred, linewidth=0, antialiased=True, color='black')\n",
    "    ax.set_xlabel('year', fontweight='bold')\n",
    "    ax.set_ylabel('log(GDP)', fontweight='bold')\n",
    "    ax.set_zlabel('log(CO$_2$)', fontweight='bold')\n",
    "    ax.set_zlim(-3,5)\n",
    "    ax.view_init(36,-140)\n",
    "    ax.zaxis.labelpad=-0\n",
    "    plt.title('Estimated surface', fontweight='bold')\n",
    "    \n",
    "    pred = np.mean(pred,axis=1)\n",
    "    \n",
    "    ax = fig.add_subplot(1, 3, 2)\n",
    "    plot = ax.plot(np.linspace(Min, Max, 1000), pred, antialiased=True, color='black')\n",
    "    scat = ax.scatter(ax22, ax33, s=2, label='log(CO$_2$) minus estimated country fixed effects')\n",
    "    ax.set_xlabel('log(GDP)', fontweight='bold')\n",
    "    ax.set_ylabel('log(CO$_2$)', fontweight='bold')\n",
    "    ax.yaxis.labelpad=-2\n",
    "    ax.set_ylim(-3,5)\n",
    "    plt.title('Time-series average of estimated surface', fontweight='bold')\n",
    "    plt.legend(loc='upper center', bbox_to_anchor=(0.5, -0.18), fancybox=True, shadow=True, ncol=1)\n",
    "    \n",
    "    ax = fig.add_subplot(1, 3, 3)\n",
    "    axis = np.reshape(np.array(time), (-1,1), order='F')\n",
    "        \n",
    "    if region=='REF':\n",
    "        ax.plot(axis, in_sample_agg[5:], color='black', label='Model predictions')\n",
    "        ax.plot(axis, y_train_agg[5:], color='black', linestyle='dashdot', label='Historical emissions')\n",
    "    else:    \n",
    "        ax.plot(axis, in_sample_agg, color='black', label='Model predictions')\n",
    "        ax.plot(axis, y_train_agg, color='black', linestyle='dashdot', label='Historical emissions')\n",
    "    ax.set_ylabel('Mt CO$_2$', fontweight='bold')\n",
    "    ax.set_xlabel('year', fontweight='bold')\n",
    "    ax.yaxis.labelpad=-2\n",
    "    if region=='World':\n",
    "        ax.set_ylim(2000,45000)\n",
    "    elif region=='OECD':\n",
    "        ax.set_ylim(2000,15000)\n",
    "    elif region=='REF':\n",
    "        ax.set_ylim(0,4500)\n",
    "    elif region=='Asia':\n",
    "        ax.set_ylim(0,25000)\n",
    "    elif region=='MAF':\n",
    "        ax.set_ylim(0,4000)\n",
    "    elif region=='LAM':\n",
    "        ax.set_ylim(0,2000)    \n",
    "    plt.title('Aggregate predictions', fontweight='bold')\n",
    "    plt.legend(loc='upper center', bbox_to_anchor=(0.5, -0.18), fancybox=True, shadow=True, ncol=1)\n",
    "    \n",
    "    plt.show()\n",
    "    "
   ]
  },
  {
   "cell_type": "markdown",
   "metadata": {},
   "source": [
    "#### Estimated Surface"
   ]
  },
  {
   "cell_type": "code",
   "execution_count": 108,
   "metadata": {},
   "outputs": [
    {
     "data": {
      "application/vnd.jupyter.widget-view+json": {
       "model_id": "3f3e8e2af4d14388ae0961d4ee4bd255",
       "version_major": 2,
       "version_minor": 0
      },
      "text/plain": [
       "interactive(children=(Dropdown(description='region', options=('World', 'OECD', 'REF', 'Asia', 'MAF', 'LAM'), v…"
      ]
     },
     "metadata": {},
     "output_type": "display_data"
    }
   ],
   "source": [
    "interact(SurfPlot, region=['World', 'OECD', 'REF', 'Asia', 'MAF', 'LAM'], loss=['MSE', 'MAE'], architecture=['(4)', '(8)', '(16)', '(8,4)', '(16,8,4)']);"
   ]
  },
  {
   "cell_type": "code",
   "execution_count": null,
   "metadata": {},
   "outputs": [],
   "source": []
  }
 ],
 "metadata": {
  "kernelspec": {
   "display_name": "Python 3",
   "language": "python",
   "name": "python3"
  },
  "language_info": {
   "codemirror_mode": {
    "name": "ipython",
    "version": 3
   },
   "file_extension": ".py",
   "mimetype": "text/x-python",
   "name": "python",
   "nbconvert_exporter": "python",
   "pygments_lexer": "ipython3",
   "version": "3.7.3"
  }
 },
 "nbformat": 4,
 "nbformat_minor": 4
}
